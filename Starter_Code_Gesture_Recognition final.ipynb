{
 "cells": [
  {
   "cell_type": "markdown",
   "metadata": {},
   "source": [
    "# Gesture Recognition\n",
    "In this group project, you are going to build a 3D Conv model that will be able to predict the 5 gestures correctly. Please import the following libraries to get started. Once you have completed the code you can download the notebook for making a submission."
   ]
  },
  {
   "cell_type": "code",
   "execution_count": 18,
   "metadata": {},
   "outputs": [],
   "source": [
    "import numpy as np\n",
    "import os\n",
    "from PIL import Image  # Using Pillow for image processing\n",
    "from tensorflow.keras.preprocessing.image import img_to_array, load_img\n",
    "import datetime\n",
    "from tensorflow.keras.models import Sequential\n",
    "from tensorflow.keras.layers import Conv3D, MaxPooling3D, Flatten, Dense, Dropout, BatchNormalization\n",
    "from tensorflow.keras.optimizers import Adam\n",
    "from tensorflow.keras.callbacks import ModelCheckpoint, ReduceLROnPlateau\n",
    "import random as rn\n",
    "import tensorflow as tf"
   ]
  },
  {
   "cell_type": "code",
   "execution_count": 19,
   "metadata": {},
   "outputs": [
    {
     "name": "stdout",
     "output_type": "stream",
     "text": [
      "Filesystem      Size  Used Avail Use% Mounted on\n",
      "/dev/rbd5        20G  794M   20G   4% /home\n"
     ]
    }
   ],
   "source": [
    "!df -h /home"
   ]
  },
  {
   "cell_type": "code",
   "execution_count": 20,
   "metadata": {},
   "outputs": [],
   "source": [
    "!rm -rf ~/.local/share/Trash/*"
   ]
  },
  {
   "cell_type": "code",
   "execution_count": null,
   "metadata": {},
   "outputs": [],
   "source": []
  },
  {
   "cell_type": "markdown",
   "metadata": {},
   "source": [
    "We set the random seed so that the results don't vary drastically."
   ]
  },
  {
   "cell_type": "code",
   "execution_count": 21,
   "metadata": {},
   "outputs": [],
   "source": [
    "# Set random seeds for reproducibility\n",
    "np.random.seed(30)\n",
    "rn.seed(30)\n",
    "tf.random.set_seed(30)"
   ]
  },
  {
   "cell_type": "markdown",
   "metadata": {},
   "source": [
    "In this block, you read the folder names for training and validation. You also set the `batch_size` here. Note that you set the batch size in such a way that you are able to use the GPU in full capacity. You keep increasing the batch size until the machine throws an error."
   ]
  },
  {
   "cell_type": "markdown",
   "metadata": {},
   "source": [
    "**data path: /home/datasets/Project_data**"
   ]
  },
  {
   "cell_type": "code",
   "execution_count": 22,
   "metadata": {},
   "outputs": [],
   "source": [
    "# File paths\n",
    "train_doc = np.random.permutation(open('/home/datasets/Project_data/train.csv').readlines())\n",
    "val_doc = np.random.permutation(open('/home/datasets/Project_data/val.csv').readlines())\n",
    "train_path = '/home/datasets/Project_data/train'\n",
    "val_path = '/home/datasets/Project_data/val'\n",
    "\n",
    "# Set batch size (adjust based on available resources)\n",
    "batch_size = 16"
   ]
  },
  {
   "cell_type": "markdown",
   "metadata": {},
   "source": [
    "## Generator\n",
    "This is one of the most important part of the code. The overall structure of the generator has been given. In the generator, you are going to preprocess the images as you have images of 2 different dimensions as well as create a batch of video frames. You have to experiment with `img_idx`, `y`,`z` and normalization such that you get high accuracy."
   ]
  },
  {
   "cell_type": "code",
   "execution_count": 23,
   "metadata": {},
   "outputs": [],
   "source": [
    "# Define the image generator\n",
    "def generator(source_path, folder_list, batch_size):\n",
    "    print('Source path = ', source_path, '; batch size =', batch_size)\n",
    "    \n",
    "    img_idx = np.linspace(0, 29, 10, dtype=int)  # Selecting 10 frames out of 30\n",
    "    x, y, z = 160, 160, 3  # Image dimensions\n",
    "    \n",
    "    while True:\n",
    "        t = np.random.permutation(folder_list)  # Shuffle folder list\n",
    "        num_batches = len(t) // batch_size\n",
    "        \n",
    "        for batch in range(num_batches):\n",
    "            batch_data = np.zeros((batch_size, len(img_idx), x, y, z))  # Initialize batch data array\n",
    "            batch_labels = np.zeros((batch_size, 5))  # Initialize batch labels (5 classes)\n",
    "\n",
    "            for folder in range(batch_size):\n",
    "                folder_name = t[folder + (batch * batch_size)].split(';')[0]\n",
    "                folder_path = os.path.join(source_path, folder_name)\n",
    "                \n",
    "                # Safeguard in case of missing folder or images\n",
    "                if not os.path.exists(folder_path):\n",
    "                    print(f\"Folder {folder_name} not found.\")\n",
    "                    continue\n",
    "                \n",
    "                imgs = os.listdir(folder_path)\n",
    "                imgs.sort()  # Ensure correct order of frames\n",
    "                \n",
    "                for idx, item in enumerate(img_idx):\n",
    "                    try:\n",
    "                        img = load_img(os.path.join(folder_path, imgs[item]))\n",
    "                        img = img_to_array(img)\n",
    "                        img = Image.fromarray(img.astype('uint8')).resize((x, y))  # Resize to 160x160\n",
    "                        img = np.array(img) / 255.0  # Normalize\n",
    "                        batch_data[folder, idx, :, :, :] = img\n",
    "                    except Exception as e:\n",
    "                        print(f\"Error processing image {imgs[item]}: {e}\")\n",
    "                \n",
    "                # One-hot encoding of labels\n",
    "                label = int(t[folder + (batch * batch_size)].strip().split(';')[2])\n",
    "                batch_labels[folder, label] = 1\n",
    "\n",
    "            yield batch_data, batch_labels  # Yield the batch\n",
    "\n",
    "        # Handle leftover batch\n",
    "        if len(t) % batch_size != 0:\n",
    "            batch_data = np.zeros((len(t) % batch_size, len(img_idx), x, y, z))\n",
    "            batch_labels = np.zeros((len(t) % batch_size, 5))\n",
    "\n",
    "            for folder in range(len(t) % batch_size):\n",
    "                folder_name = t[folder + (num_batches * batch_size)].split(';')[0]\n",
    "                folder_path = os.path.join(source_path, folder_name)\n",
    "                imgs = os.listdir(folder_path)\n",
    "\n",
    "                for idx, item in enumerate(img_idx):\n",
    "                    img = load_img(os.path.join(folder_path, imgs[item]))\n",
    "                    img = img_to_array(img)\n",
    "                    img = Image.fromarray(img.astype('uint8')).resize((x, y))\n",
    "                    img = np.array(img) / 255.0\n",
    "                    batch_data[folder, idx, :, :, :] = img\n",
    "\n",
    "                label = int(t[folder + (num_batches * batch_size)].strip().split(';')[2])\n",
    "                batch_labels[folder, label] = 1\n",
    "\n",
    "            yield batch_data, batch_labels\n"
   ]
  },
  {
   "cell_type": "markdown",
   "metadata": {},
   "source": [
    "Note here that a video is represented above in the generator as (number of images, height, width, number of channels). Take this into consideration while creating the model architecture."
   ]
  },
  {
   "cell_type": "code",
   "execution_count": 24,
   "metadata": {},
   "outputs": [
    {
     "name": "stdout",
     "output_type": "stream",
     "text": [
      "# training sequences = 663\n",
      "# validation sequences = 100\n",
      "# epochs = 50\n"
     ]
    }
   ],
   "source": [
    "curr_dt_time = datetime.datetime.now()\n",
    "train_path = '/home/datasets/Project_data/train'\n",
    "val_path = '/home/datasets/Project_data/val'\n",
    "num_train_sequences = len(train_doc)\n",
    "print('# training sequences =', num_train_sequences)\n",
    "num_val_sequences = len(val_doc)\n",
    "print('# validation sequences =', num_val_sequences)\n",
    "num_epochs = 50\n",
    "print ('# epochs =', num_epochs)"
   ]
  },
  {
   "cell_type": "markdown",
   "metadata": {},
   "source": [
    "## Model\n",
    "Here you make the model using different functionalities that Keras provides. Remember to use `Conv3D` and `MaxPooling3D` and not `Conv2D` and `Maxpooling2D` for a 3D convolution model. You would want to use `TimeDistributed` while building a Conv2D + RNN model. Also remember that the last layer is the softmax. Design the network in such a way that the model is able to give good accuracy on the least number of parameters so that it can fit in the memory of the webcam."
   ]
  },
  {
   "cell_type": "code",
   "execution_count": 25,
   "metadata": {},
   "outputs": [],
   "source": [
    "# Model architecture\n",
    "model = Sequential()\n",
    "\n",
    "# 3D Conv layers\n",
    "model.add(Conv3D(32, (3, 3, 3), activation='relu', input_shape=(10, 160, 160, 3), padding='same'))\n",
    "model.add(MaxPooling3D(pool_size=(2, 2, 2)))\n",
    "model.add(BatchNormalization())\n",
    "\n",
    "model.add(Conv3D(64, (3, 3, 3), activation='relu', padding='same'))\n",
    "model.add(MaxPooling3D(pool_size=(2, 2, 2)))\n",
    "model.add(BatchNormalization())\n",
    "\n",
    "model.add(Conv3D(128, (3, 3, 3), activation='relu', padding='same'))\n",
    "model.add(MaxPooling3D(pool_size=(2, 2, 1)))\n",
    "model.add(BatchNormalization())\n",
    "\n",
    "# Flatten and dense layers\n",
    "model.add(Flatten())\n",
    "model.add(Dense(512, activation='relu'))\n",
    "model.add(Dropout(0.5))\n",
    "model.add(Dense(5, activation='softmax'))  # Output layer (5 classes)\n"
   ]
  },
  {
   "cell_type": "markdown",
   "metadata": {},
   "source": [
    "Now that you have written the model, the next step is to `compile` the model. When you print the `summary` of the model, you'll see the total number of parameters you have to train."
   ]
  },
  {
   "cell_type": "code",
   "execution_count": 26,
   "metadata": {
    "scrolled": true
   },
   "outputs": [
    {
     "name": "stdout",
     "output_type": "stream",
     "text": [
      "Model: \"sequential_1\"\n",
      "_________________________________________________________________\n",
      " Layer (type)                Output Shape              Param #   \n",
      "=================================================================\n",
      " conv3d_3 (Conv3D)           (None, 10, 160, 160, 32)  2624      \n",
      "                                                                 \n",
      " max_pooling3d_3 (MaxPooling  (None, 5, 80, 80, 32)    0         \n",
      " 3D)                                                             \n",
      "                                                                 \n",
      " batch_normalization_3 (Batc  (None, 5, 80, 80, 32)    128       \n",
      " hNormalization)                                                 \n",
      "                                                                 \n",
      " conv3d_4 (Conv3D)           (None, 5, 80, 80, 64)     55360     \n",
      "                                                                 \n",
      " max_pooling3d_4 (MaxPooling  (None, 2, 40, 40, 64)    0         \n",
      " 3D)                                                             \n",
      "                                                                 \n",
      " batch_normalization_4 (Batc  (None, 2, 40, 40, 64)    256       \n",
      " hNormalization)                                                 \n",
      "                                                                 \n",
      " conv3d_5 (Conv3D)           (None, 2, 40, 40, 128)    221312    \n",
      "                                                                 \n",
      " max_pooling3d_5 (MaxPooling  (None, 1, 20, 40, 128)   0         \n",
      " 3D)                                                             \n",
      "                                                                 \n",
      " batch_normalization_5 (Batc  (None, 1, 20, 40, 128)   512       \n",
      " hNormalization)                                                 \n",
      "                                                                 \n",
      " flatten_1 (Flatten)         (None, 102400)            0         \n",
      "                                                                 \n",
      " dense_2 (Dense)             (None, 512)               52429312  \n",
      "                                                                 \n",
      " dropout_1 (Dropout)         (None, 512)               0         \n",
      "                                                                 \n",
      " dense_3 (Dense)             (None, 5)                 2565      \n",
      "                                                                 \n",
      "=================================================================\n",
      "Total params: 52,712,069\n",
      "Trainable params: 52,711,621\n",
      "Non-trainable params: 448\n",
      "_________________________________________________________________\n",
      "None\n"
     ]
    }
   ],
   "source": [
    "# Compile model\n",
    "optimiser = Adam(learning_rate=0.001)\n",
    "model.compile(optimizer=optimiser, loss='categorical_crossentropy', metrics=['categorical_accuracy'])\n",
    "\n",
    "# Model summary\n",
    "print(model.summary())\n"
   ]
  },
  {
   "cell_type": "markdown",
   "metadata": {},
   "source": [
    "Let us create the `train_generator` and the `val_generator` which will be used in `.fit_generator`."
   ]
  },
  {
   "cell_type": "code",
   "execution_count": 27,
   "metadata": {},
   "outputs": [],
   "source": [
    "# Train and validation generators\n",
    "train_generator = generator(train_path, train_doc, batch_size)\n",
    "val_generator = generator(val_path, val_doc, batch_size)"
   ]
  },
  {
   "cell_type": "code",
   "execution_count": 28,
   "metadata": {},
   "outputs": [],
   "source": [
    "# Checkpoint and learning rate schedule\n",
    "model_name = \"model_init_\" + str(datetime.datetime.now()).replace(' ', '_').replace(':', '_').replace('.', '_') + \"/model-{epoch:03d}-{loss:.4f}-{categorical_accuracy:.4f}.h5\"\n",
    "if not os.path.exists(os.path.dirname(model_name)):\n",
    "    os.makedirs(os.path.dirname(model_name))\n",
    "\n",
    "checkpoint = ModelCheckpoint(filepath=model_name, monitor='categorical_accuracy', verbose=1, save_best_only=True, save_weights_only=False, mode='auto')\n",
    "lr_reduce = ReduceLROnPlateau(monitor='val_loss', factor=0.5, patience=5, verbose=1)\n",
    "\n",
    "callbacks_list = [checkpoint, lr_reduce]"
   ]
  },
  {
   "cell_type": "markdown",
   "metadata": {},
   "source": [
    "The `steps_per_epoch` and `validation_steps` are used by `fit` method to decide the number of next() calls it need to make."
   ]
  },
  {
   "cell_type": "code",
   "execution_count": 29,
   "metadata": {},
   "outputs": [],
   "source": [
    "steps_per_epoch = (len(train_doc) + batch_size - 1) // batch_size\n",
    "validation_steps = (len(val_doc) + batch_size - 1) // batch_size"
   ]
  },
  {
   "cell_type": "markdown",
   "metadata": {},
   "source": [
    "Let us now fit the model. This will start training the model and with the help of the checkpoints, you'll be able to save the model at the end of each epoch."
   ]
  },
  {
   "cell_type": "code",
   "execution_count": 30,
   "metadata": {},
   "outputs": [
    {
     "name": "stdout",
     "output_type": "stream",
     "text": [
      "Source path =  /home/datasets/Project_data/train ; batch size = 16\n",
      "Epoch 1/50\n",
      "42/42 [==============================] - ETA: 0s - loss: 18.8930 - categorical_accuracy: 0.4661Source path =  /home/datasets/Project_data/val ; batch size = 16\n",
      "\n",
      "Epoch 00001: categorical_accuracy improved from -inf to 0.46606, saving model to model_init_2024-09-29_07_13_04_159942/model-001-18.8930-0.4661.h5\n",
      "42/42 [==============================] - 32s 759ms/step - loss: 18.8930 - categorical_accuracy: 0.4661 - val_loss: 18.9044 - val_categorical_accuracy: 0.1700 - lr: 0.0010\n",
      "Epoch 2/50\n",
      "42/42 [==============================] - ETA: 0s - loss: 8.0714 - categorical_accuracy: 0.6712\n",
      "Epoch 00002: categorical_accuracy improved from 0.46606 to 0.67119, saving model to model_init_2024-09-29_07_13_04_159942/model-002-8.0714-0.6712.h5\n",
      "42/42 [==============================] - 30s 731ms/step - loss: 8.0714 - categorical_accuracy: 0.6712 - val_loss: 25.6082 - val_categorical_accuracy: 0.2200 - lr: 0.0010\n",
      "Epoch 3/50\n",
      "42/42 [==============================] - ETA: 0s - loss: 4.0334 - categorical_accuracy: 0.7602\n",
      "Epoch 00003: categorical_accuracy improved from 0.67119 to 0.76018, saving model to model_init_2024-09-29_07_13_04_159942/model-003-4.0334-0.7602.h5\n",
      "42/42 [==============================] - 30s 732ms/step - loss: 4.0334 - categorical_accuracy: 0.7602 - val_loss: 13.1555 - val_categorical_accuracy: 0.3900 - lr: 0.0010\n",
      "Epoch 4/50\n",
      "42/42 [==============================] - ETA: 0s - loss: 2.9015 - categorical_accuracy: 0.7919\n",
      "Epoch 00004: categorical_accuracy improved from 0.76018 to 0.79186, saving model to model_init_2024-09-29_07_13_04_159942/model-004-2.9015-0.7919.h5\n",
      "42/42 [==============================] - 30s 724ms/step - loss: 2.9015 - categorical_accuracy: 0.7919 - val_loss: 16.1455 - val_categorical_accuracy: 0.2900 - lr: 0.0010\n",
      "Epoch 5/50\n",
      "42/42 [==============================] - ETA: 0s - loss: 1.5959 - categorical_accuracy: 0.8160\n",
      "Epoch 00005: categorical_accuracy improved from 0.79186 to 0.81599, saving model to model_init_2024-09-29_07_13_04_159942/model-005-1.5959-0.8160.h5\n",
      "42/42 [==============================] - 29s 706ms/step - loss: 1.5959 - categorical_accuracy: 0.8160 - val_loss: 7.3026 - val_categorical_accuracy: 0.3900 - lr: 0.0010\n",
      "Epoch 6/50\n",
      "42/42 [==============================] - ETA: 0s - loss: 1.2329 - categorical_accuracy: 0.8507\n",
      "Epoch 00006: categorical_accuracy improved from 0.81599 to 0.85068, saving model to model_init_2024-09-29_07_13_04_159942/model-006-1.2329-0.8507.h5\n",
      "42/42 [==============================] - 30s 721ms/step - loss: 1.2329 - categorical_accuracy: 0.8507 - val_loss: 6.7404 - val_categorical_accuracy: 0.4900 - lr: 0.0010\n",
      "Epoch 7/50\n",
      "42/42 [==============================] - ETA: 0s - loss: 1.5398 - categorical_accuracy: 0.8552\n",
      "Epoch 00007: categorical_accuracy improved from 0.85068 to 0.85520, saving model to model_init_2024-09-29_07_13_04_159942/model-007-1.5398-0.8552.h5\n",
      "42/42 [==============================] - 30s 735ms/step - loss: 1.5398 - categorical_accuracy: 0.8552 - val_loss: 7.3007 - val_categorical_accuracy: 0.3500 - lr: 0.0010\n",
      "Epoch 8/50\n",
      "42/42 [==============================] - ETA: 0s - loss: 1.0672 - categorical_accuracy: 0.8688\n",
      "Epoch 00008: categorical_accuracy improved from 0.85520 to 0.86878, saving model to model_init_2024-09-29_07_13_04_159942/model-008-1.0672-0.8688.h5\n",
      "42/42 [==============================] - 30s 737ms/step - loss: 1.0672 - categorical_accuracy: 0.8688 - val_loss: 9.5847 - val_categorical_accuracy: 0.4300 - lr: 0.0010\n",
      "Epoch 9/50\n",
      "42/42 [==============================] - ETA: 0s - loss: 1.0744 - categorical_accuracy: 0.8824\n",
      "Epoch 00009: categorical_accuracy improved from 0.86878 to 0.88235, saving model to model_init_2024-09-29_07_13_04_159942/model-009-1.0744-0.8824.h5\n",
      "42/42 [==============================] - 30s 728ms/step - loss: 1.0744 - categorical_accuracy: 0.8824 - val_loss: 6.1941 - val_categorical_accuracy: 0.6600 - lr: 0.0010\n",
      "Epoch 10/50\n",
      "42/42 [==============================] - ETA: 0s - loss: 0.5420 - categorical_accuracy: 0.9065\n",
      "Epoch 00010: categorical_accuracy improved from 0.88235 to 0.90649, saving model to model_init_2024-09-29_07_13_04_159942/model-010-0.5420-0.9065.h5\n",
      "42/42 [==============================] - 32s 775ms/step - loss: 0.5420 - categorical_accuracy: 0.9065 - val_loss: 5.2112 - val_categorical_accuracy: 0.6800 - lr: 0.0010\n",
      "Epoch 11/50\n",
      "42/42 [==============================] - ETA: 0s - loss: 0.7276 - categorical_accuracy: 0.8959\n",
      "Epoch 00011: categorical_accuracy did not improve from 0.90649\n",
      "42/42 [==============================] - 30s 737ms/step - loss: 0.7276 - categorical_accuracy: 0.8959 - val_loss: 8.0717 - val_categorical_accuracy: 0.4200 - lr: 0.0010\n",
      "Epoch 12/50\n",
      "42/42 [==============================] - ETA: 0s - loss: 0.6599 - categorical_accuracy: 0.8974\n",
      "Epoch 00012: categorical_accuracy did not improve from 0.90649\n",
      "42/42 [==============================] - 29s 713ms/step - loss: 0.6599 - categorical_accuracy: 0.8974 - val_loss: 2.3135 - val_categorical_accuracy: 0.7400 - lr: 0.0010\n",
      "Epoch 13/50\n",
      "42/42 [==============================] - ETA: 0s - loss: 0.4553 - categorical_accuracy: 0.9261\n",
      "Epoch 00013: categorical_accuracy improved from 0.90649 to 0.92609, saving model to model_init_2024-09-29_07_13_04_159942/model-013-0.4553-0.9261.h5\n",
      "42/42 [==============================] - 31s 757ms/step - loss: 0.4553 - categorical_accuracy: 0.9261 - val_loss: 3.1117 - val_categorical_accuracy: 0.7500 - lr: 0.0010\n",
      "Epoch 14/50\n",
      "42/42 [==============================] - ETA: 0s - loss: 0.4682 - categorical_accuracy: 0.9367\n",
      "Epoch 00014: categorical_accuracy improved from 0.92609 to 0.93665, saving model to model_init_2024-09-29_07_13_04_159942/model-014-0.4682-0.9367.h5\n",
      "42/42 [==============================] - 32s 769ms/step - loss: 0.4682 - categorical_accuracy: 0.9367 - val_loss: 4.3073 - val_categorical_accuracy: 0.7700 - lr: 0.0010\n",
      "Epoch 15/50\n",
      "42/42 [==============================] - ETA: 0s - loss: 0.2855 - categorical_accuracy: 0.9487\n",
      "Epoch 00015: categorical_accuracy improved from 0.93665 to 0.94872, saving model to model_init_2024-09-29_07_13_04_159942/model-015-0.2855-0.9487.h5\n",
      "42/42 [==============================] - 32s 770ms/step - loss: 0.2855 - categorical_accuracy: 0.9487 - val_loss: 2.6439 - val_categorical_accuracy: 0.7800 - lr: 0.0010\n",
      "Epoch 16/50\n",
      "42/42 [==============================] - ETA: 0s - loss: 0.3109 - categorical_accuracy: 0.9427\n",
      "Epoch 00016: categorical_accuracy did not improve from 0.94872\n",
      "42/42 [==============================] - 29s 707ms/step - loss: 0.3109 - categorical_accuracy: 0.9427 - val_loss: 2.7623 - val_categorical_accuracy: 0.7600 - lr: 0.0010\n",
      "Epoch 17/50\n",
      "42/42 [==============================] - ETA: 0s - loss: 0.3357 - categorical_accuracy: 0.9487\n",
      "Epoch 00017: categorical_accuracy did not improve from 0.94872\n",
      "\n",
      "Epoch 00017: ReduceLROnPlateau reducing learning rate to 0.0005000000237487257.\n",
      "42/42 [==============================] - 30s 728ms/step - loss: 0.3357 - categorical_accuracy: 0.9487 - val_loss: 4.4614 - val_categorical_accuracy: 0.8300 - lr: 0.0010\n",
      "Epoch 18/50\n",
      "42/42 [==============================] - ETA: 0s - loss: 0.1647 - categorical_accuracy: 0.9548\n",
      "Epoch 00018: categorical_accuracy improved from 0.94872 to 0.95475, saving model to model_init_2024-09-29_07_13_04_159942/model-018-0.1647-0.9548.h5\n",
      "42/42 [==============================] - 31s 753ms/step - loss: 0.1647 - categorical_accuracy: 0.9548 - val_loss: 2.7704 - val_categorical_accuracy: 0.9000 - lr: 5.0000e-04\n",
      "Epoch 19/50\n",
      "42/42 [==============================] - ETA: 0s - loss: 0.4163 - categorical_accuracy: 0.9472\n",
      "Epoch 00019: categorical_accuracy did not improve from 0.95475\n",
      "42/42 [==============================] - 30s 730ms/step - loss: 0.4163 - categorical_accuracy: 0.9472 - val_loss: 1.9346 - val_categorical_accuracy: 0.8200 - lr: 5.0000e-04\n",
      "Epoch 20/50\n",
      "42/42 [==============================] - ETA: 0s - loss: 0.1254 - categorical_accuracy: 0.9638\n",
      "Epoch 00020: categorical_accuracy improved from 0.95475 to 0.96380, saving model to model_init_2024-09-29_07_13_04_159942/model-020-0.1254-0.9638.h5\n",
      "42/42 [==============================] - 31s 761ms/step - loss: 0.1254 - categorical_accuracy: 0.9638 - val_loss: 2.1134 - val_categorical_accuracy: 0.8800 - lr: 5.0000e-04\n",
      "Epoch 21/50\n",
      "42/42 [==============================] - ETA: 0s - loss: 0.2301 - categorical_accuracy: 0.9638\n",
      "Epoch 00021: categorical_accuracy did not improve from 0.96380\n",
      "42/42 [==============================] - 30s 736ms/step - loss: 0.2301 - categorical_accuracy: 0.9638 - val_loss: 2.3429 - val_categorical_accuracy: 0.8600 - lr: 5.0000e-04\n",
      "Epoch 22/50\n",
      "42/42 [==============================] - ETA: 0s - loss: 0.0867 - categorical_accuracy: 0.9744\n",
      "Epoch 00022: categorical_accuracy improved from 0.96380 to 0.97436, saving model to model_init_2024-09-29_07_13_04_159942/model-022-0.0867-0.9744.h5\n",
      "42/42 [==============================] - 32s 773ms/step - loss: 0.0867 - categorical_accuracy: 0.9744 - val_loss: 1.3043 - val_categorical_accuracy: 0.8200 - lr: 5.0000e-04\n",
      "Epoch 23/50\n",
      "42/42 [==============================] - ETA: 0s - loss: 0.0847 - categorical_accuracy: 0.9759\n",
      "Epoch 00023: categorical_accuracy improved from 0.97436 to 0.97587, saving model to model_init_2024-09-29_07_13_04_159942/model-023-0.0847-0.9759.h5\n",
      "42/42 [==============================] - 33s 812ms/step - loss: 0.0847 - categorical_accuracy: 0.9759 - val_loss: 0.7536 - val_categorical_accuracy: 0.8900 - lr: 5.0000e-04\n",
      "Epoch 24/50\n",
      "42/42 [==============================] - ETA: 0s - loss: 0.0683 - categorical_accuracy: 0.9804\n",
      "Epoch 00024: categorical_accuracy improved from 0.97587 to 0.98039, saving model to model_init_2024-09-29_07_13_04_159942/model-024-0.0683-0.9804.h5\n",
      "42/42 [==============================] - 32s 787ms/step - loss: 0.0683 - categorical_accuracy: 0.9804 - val_loss: 1.5713 - val_categorical_accuracy: 0.8600 - lr: 5.0000e-04\n",
      "Epoch 25/50\n",
      "42/42 [==============================] - ETA: 0s - loss: 0.2402 - categorical_accuracy: 0.9744\n",
      "Epoch 00025: categorical_accuracy did not improve from 0.98039\n",
      "42/42 [==============================] - 30s 726ms/step - loss: 0.2402 - categorical_accuracy: 0.9744 - val_loss: 1.0164 - val_categorical_accuracy: 0.8800 - lr: 5.0000e-04\n",
      "Epoch 26/50\n",
      "42/42 [==============================] - ETA: 0s - loss: 0.7961 - categorical_accuracy: 0.9563\n",
      "Epoch 00026: categorical_accuracy did not improve from 0.98039\n",
      "42/42 [==============================] - 29s 702ms/step - loss: 0.7961 - categorical_accuracy: 0.9563 - val_loss: 1.3715 - val_categorical_accuracy: 0.8600 - lr: 5.0000e-04\n",
      "Epoch 27/50\n",
      "42/42 [==============================] - ETA: 0s - loss: 0.4061 - categorical_accuracy: 0.9457\n",
      "Epoch 00027: categorical_accuracy did not improve from 0.98039\n",
      "42/42 [==============================] - 29s 699ms/step - loss: 0.4061 - categorical_accuracy: 0.9457 - val_loss: 145.1145 - val_categorical_accuracy: 0.4200 - lr: 5.0000e-04\n",
      "Epoch 28/50\n",
      "42/42 [==============================] - ETA: 0s - loss: 0.4111 - categorical_accuracy: 0.9653\n",
      "Epoch 00028: categorical_accuracy did not improve from 0.98039\n",
      "\n",
      "Epoch 00028: ReduceLROnPlateau reducing learning rate to 0.0002500000118743628.\n",
      "42/42 [==============================] - 28s 691ms/step - loss: 0.4111 - categorical_accuracy: 0.9653 - val_loss: 1.4532 - val_categorical_accuracy: 0.8600 - lr: 5.0000e-04\n",
      "Epoch 29/50\n",
      "42/42 [==============================] - ETA: 0s - loss: 0.2744 - categorical_accuracy: 0.9623\n",
      "Epoch 00029: categorical_accuracy did not improve from 0.98039\n",
      "42/42 [==============================] - 29s 716ms/step - loss: 0.2744 - categorical_accuracy: 0.9623 - val_loss: 2.7183 - val_categorical_accuracy: 0.8300 - lr: 2.5000e-04\n",
      "Epoch 30/50\n",
      "42/42 [==============================] - ETA: 0s - loss: 0.1639 - categorical_accuracy: 0.9789\n",
      "Epoch 00030: categorical_accuracy did not improve from 0.98039\n",
      "42/42 [==============================] - 30s 726ms/step - loss: 0.1639 - categorical_accuracy: 0.9789 - val_loss: 3.3284 - val_categorical_accuracy: 0.8800 - lr: 2.5000e-04\n",
      "Epoch 31/50\n",
      "42/42 [==============================] - ETA: 0s - loss: 0.0834 - categorical_accuracy: 0.9774\n",
      "Epoch 00031: categorical_accuracy did not improve from 0.98039\n",
      "42/42 [==============================] - 30s 721ms/step - loss: 0.0834 - categorical_accuracy: 0.9774 - val_loss: 3.2382 - val_categorical_accuracy: 0.8300 - lr: 2.5000e-04\n",
      "Epoch 32/50\n",
      "42/42 [==============================] - ETA: 0s - loss: 0.2654 - categorical_accuracy: 0.9638\n",
      "Epoch 00032: categorical_accuracy did not improve from 0.98039\n",
      "42/42 [==============================] - 30s 716ms/step - loss: 0.2654 - categorical_accuracy: 0.9638 - val_loss: 1.4048 - val_categorical_accuracy: 0.8700 - lr: 2.5000e-04\n",
      "Epoch 33/50\n",
      "42/42 [==============================] - ETA: 0s - loss: 0.2491 - categorical_accuracy: 0.9653\n",
      "Epoch 00033: categorical_accuracy did not improve from 0.98039\n",
      "\n",
      "Epoch 00033: ReduceLROnPlateau reducing learning rate to 0.0001250000059371814.\n",
      "42/42 [==============================] - 30s 720ms/step - loss: 0.2491 - categorical_accuracy: 0.9653 - val_loss: 1.0420 - val_categorical_accuracy: 0.8400 - lr: 2.5000e-04\n",
      "Epoch 34/50\n",
      "42/42 [==============================] - ETA: 0s - loss: 0.1134 - categorical_accuracy: 0.9653\n",
      "Epoch 00034: categorical_accuracy did not improve from 0.98039\n",
      "42/42 [==============================] - 29s 701ms/step - loss: 0.1134 - categorical_accuracy: 0.9653 - val_loss: 2.1098 - val_categorical_accuracy: 0.8500 - lr: 1.2500e-04\n",
      "Epoch 35/50\n",
      "42/42 [==============================] - ETA: 0s - loss: 0.0633 - categorical_accuracy: 0.9834\n",
      "Epoch 00035: categorical_accuracy improved from 0.98039 to 0.98341, saving model to model_init_2024-09-29_07_13_04_159942/model-035-0.0633-0.9834.h5\n",
      "42/42 [==============================] - 31s 754ms/step - loss: 0.0633 - categorical_accuracy: 0.9834 - val_loss: 1.3938 - val_categorical_accuracy: 0.8800 - lr: 1.2500e-04\n",
      "Epoch 36/50\n",
      "42/42 [==============================] - ETA: 0s - loss: 0.0874 - categorical_accuracy: 0.9819\n",
      "Epoch 00036: categorical_accuracy did not improve from 0.98341\n",
      "42/42 [==============================] - 31s 743ms/step - loss: 0.0874 - categorical_accuracy: 0.9819 - val_loss: 1.0551 - val_categorical_accuracy: 0.9000 - lr: 1.2500e-04\n",
      "Epoch 37/50\n",
      "42/42 [==============================] - ETA: 0s - loss: 0.1410 - categorical_accuracy: 0.9879\n",
      "Epoch 00037: categorical_accuracy improved from 0.98341 to 0.98793, saving model to model_init_2024-09-29_07_13_04_159942/model-037-0.1410-0.9879.h5\n",
      "42/42 [==============================] - 33s 812ms/step - loss: 0.1410 - categorical_accuracy: 0.9879 - val_loss: 1.1047 - val_categorical_accuracy: 0.8900 - lr: 1.2500e-04\n",
      "Epoch 38/50\n",
      "42/42 [==============================] - ETA: 0s - loss: 0.0457 - categorical_accuracy: 0.9834\n",
      "Epoch 00038: categorical_accuracy did not improve from 0.98793\n",
      "42/42 [==============================] - 32s 766ms/step - loss: 0.0457 - categorical_accuracy: 0.9834 - val_loss: 0.6064 - val_categorical_accuracy: 0.9500 - lr: 1.2500e-04\n",
      "Epoch 39/50\n",
      "42/42 [==============================] - ETA: 0s - loss: 0.0890 - categorical_accuracy: 0.9879\n",
      "Epoch 00039: categorical_accuracy did not improve from 0.98793\n",
      "42/42 [==============================] - 31s 748ms/step - loss: 0.0890 - categorical_accuracy: 0.9879 - val_loss: 1.6514 - val_categorical_accuracy: 0.8500 - lr: 1.2500e-04\n",
      "Epoch 40/50\n",
      "42/42 [==============================] - ETA: 0s - loss: 0.0379 - categorical_accuracy: 0.9879\n",
      "Epoch 00040: categorical_accuracy did not improve from 0.98793\n",
      "42/42 [==============================] - 29s 711ms/step - loss: 0.0379 - categorical_accuracy: 0.9879 - val_loss: 1.2518 - val_categorical_accuracy: 0.8200 - lr: 1.2500e-04\n",
      "Epoch 41/50\n",
      "42/42 [==============================] - ETA: 0s - loss: 0.0887 - categorical_accuracy: 0.9834\n",
      "Epoch 00041: categorical_accuracy did not improve from 0.98793\n",
      "42/42 [==============================] - 31s 742ms/step - loss: 0.0887 - categorical_accuracy: 0.9834 - val_loss: 0.8533 - val_categorical_accuracy: 0.9000 - lr: 1.2500e-04\n",
      "Epoch 42/50\n",
      "42/42 [==============================] - ETA: 0s - loss: 0.0448 - categorical_accuracy: 0.9864\n",
      "Epoch 00042: categorical_accuracy did not improve from 0.98793\n",
      "42/42 [==============================] - 29s 706ms/step - loss: 0.0448 - categorical_accuracy: 0.9864 - val_loss: 0.9589 - val_categorical_accuracy: 0.8700 - lr: 1.2500e-04\n",
      "Epoch 43/50\n",
      "42/42 [==============================] - ETA: 0s - loss: 0.0481 - categorical_accuracy: 0.9940\n",
      "Epoch 00043: categorical_accuracy improved from 0.98793 to 0.99397, saving model to model_init_2024-09-29_07_13_04_159942/model-043-0.0481-0.9940.h5\n",
      "42/42 [==============================] - 32s 788ms/step - loss: 0.0481 - categorical_accuracy: 0.9940 - val_loss: 0.6052 - val_categorical_accuracy: 0.9000 - lr: 1.2500e-04\n",
      "Epoch 44/50\n",
      "42/42 [==============================] - ETA: 0s - loss: 0.0269 - categorical_accuracy: 0.9894\n",
      "Epoch 00044: categorical_accuracy did not improve from 0.99397\n",
      "42/42 [==============================] - 31s 749ms/step - loss: 0.0269 - categorical_accuracy: 0.9894 - val_loss: 1.3068 - val_categorical_accuracy: 0.8800 - lr: 1.2500e-04\n",
      "Epoch 45/50\n",
      "42/42 [==============================] - ETA: 0s - loss: 0.0821 - categorical_accuracy: 0.9804\n",
      "Epoch 00045: categorical_accuracy did not improve from 0.99397\n",
      "42/42 [==============================] - 31s 749ms/step - loss: 0.0821 - categorical_accuracy: 0.9804 - val_loss: 1.5209 - val_categorical_accuracy: 0.8800 - lr: 1.2500e-04\n",
      "Epoch 46/50\n",
      "42/42 [==============================] - ETA: 0s - loss: 0.0792 - categorical_accuracy: 0.9834\n",
      "Epoch 00046: categorical_accuracy did not improve from 0.99397\n",
      "42/42 [==============================] - 30s 718ms/step - loss: 0.0792 - categorical_accuracy: 0.9834 - val_loss: 0.4177 - val_categorical_accuracy: 0.9000 - lr: 1.2500e-04\n",
      "Epoch 47/50\n",
      "42/42 [==============================] - ETA: 0s - loss: 0.1164 - categorical_accuracy: 0.9834\n",
      "Epoch 00047: categorical_accuracy did not improve from 0.99397\n",
      "42/42 [==============================] - 31s 757ms/step - loss: 0.1164 - categorical_accuracy: 0.9834 - val_loss: 0.4975 - val_categorical_accuracy: 0.9100 - lr: 1.2500e-04\n",
      "Epoch 48/50\n",
      "42/42 [==============================] - ETA: 0s - loss: 0.0236 - categorical_accuracy: 0.9894\n",
      "Epoch 00048: categorical_accuracy did not improve from 0.99397\n",
      "42/42 [==============================] - 30s 733ms/step - loss: 0.0236 - categorical_accuracy: 0.9894 - val_loss: 2.2145 - val_categorical_accuracy: 0.8900 - lr: 1.2500e-04\n",
      "Epoch 49/50\n",
      "42/42 [==============================] - ETA: 0s - loss: 0.0258 - categorical_accuracy: 0.9940\n",
      "Epoch 00049: categorical_accuracy did not improve from 0.99397\n",
      "42/42 [==============================] - 30s 731ms/step - loss: 0.0258 - categorical_accuracy: 0.9940 - val_loss: 0.7926 - val_categorical_accuracy: 0.9000 - lr: 1.2500e-04\n",
      "Epoch 50/50\n",
      "42/42 [==============================] - ETA: 0s - loss: 0.0293 - categorical_accuracy: 0.9879\n",
      "Epoch 00050: categorical_accuracy did not improve from 0.99397\n",
      "42/42 [==============================] - 30s 735ms/step - loss: 0.0293 - categorical_accuracy: 0.9879 - val_loss: 1.0315 - val_categorical_accuracy: 0.8700 - lr: 1.2500e-04\n"
     ]
    }
   ],
   "source": [
    "# Model fitting\n",
    "history = model.fit(\n",
    "    train_generator,\n",
    "    steps_per_epoch=steps_per_epoch,\n",
    "    epochs=50,\n",
    "    verbose=1,\n",
    "    callbacks=callbacks_list,\n",
    "    validation_data=val_generator,\n",
    "    validation_steps=validation_steps,\n",
    "    workers=1\n",
    ")"
   ]
  },
  {
   "cell_type": "code",
   "execution_count": 31,
   "metadata": {},
   "outputs": [
    {
     "data": {
      "image/png": "[encoded data removed]",
      "text/plain": [
       "<Figure size 864x432 with 2 Axes>"
      ]
     },
     "metadata": {
      "needs_background": "light"
     },
     "output_type": "display_data"
    },
    {
     "name": "stdout",
     "output_type": "stream",
     "text": [
      "\n",
      "Final Model Summary:\n",
      "Training Accuracy: 0.9879\n",
      "Validation Accuracy: 0.8700\n",
      "Training Loss: 0.0293\n",
      "Validation Loss: 1.0315\n"
     ]
    }
   ],
   "source": [
    "# Plot training history\n",
    "import matplotlib.pyplot as plt\n",
    "\n",
    "def plot_training_history(history):\n",
    "    plt.figure(figsize=(12, 6))\n",
    "    \n",
    "    # Accuracy plot\n",
    "    plt.subplot(1, 2, 1)\n",
    "    plt.plot(history.history['categorical_accuracy'], label='Train Accuracy')\n",
    "    plt.plot(history.history['val_categorical_accuracy'], label='Validation Accuracy')\n",
    "    plt.title('Accuracy over Epochs')\n",
    "    plt.xlabel('Epochs')\n",
    "    plt.ylabel('Accuracy')\n",
    "    plt.legend()\n",
    "\n",
    "    # Loss plot\n",
    "    plt.subplot(1, 2, 2)\n",
    "    plt.plot(history.history['loss'], label='Train Loss')\n",
    "    plt.plot(history.history['val_loss'], label='Validation Loss')\n",
    "    plt.title('Loss over Epochs')\n",
    "    plt.xlabel('Epochs')\n",
    "    plt.ylabel('Loss')\n",
    "    plt.legend()\n",
    "\n",
    "    plt.show()\n",
    "\n",
    "def print_training_summary(history):\n",
    "    final_train_accuracy = history.history['categorical_accuracy'][-1]\n",
    "    final_val_accuracy = history.history['val_categorical_accuracy'][-1]\n",
    "    final_train_loss = history.history['loss'][-1]\n",
    "    final_val_loss = history.history['val_loss'][-1]\n",
    "    \n",
    "    print(\"\\nFinal Model Summary:\")\n",
    "    print(f\"Training Accuracy: {final_train_accuracy:.4f}\")\n",
    "    print(f\"Validation Accuracy: {final_val_accuracy:.4f}\")\n",
    "    print(f\"Training Loss: {final_train_loss:.4f}\")\n",
    "    print(f\"Validation Loss: {final_val_loss:.4f}\")\n",
    "\n",
    "# Plot the graphs and print the summary\n",
    "plot_training_history(history)\n",
    "print_training_summary(history)"
   ]
  },
  {
   "cell_type": "code",
   "execution_count": 35,
   "metadata": {},
   "outputs": [],
   "source": [
    "# Save the final model\n",
    "model.save('/home/dl_content/Upgrad DL/Gesture Recognition Assignment/gesture_recognition_final_model2.h5')"
   ]
  },
  {
   "cell_type": "code",
   "execution_count": null,
   "metadata": {},
   "outputs": [],
   "source": []
  },
  {
   "cell_type": "code",
   "execution_count": null,
   "metadata": {},
   "outputs": [],
   "source": []
  },
  {
   "cell_type": "code",
   "execution_count": null,
   "metadata": {},
   "outputs": [],
   "source": []
  },
  {
   "cell_type": "code",
   "execution_count": null,
   "metadata": {},
   "outputs": [],
   "source": []
  },
  {
   "cell_type": "code",
   "execution_count": null,
   "metadata": {},
   "outputs": [],
   "source": []
  },
  {
   "cell_type": "code",
   "execution_count": null,
   "metadata": {},
   "outputs": [],
   "source": []
  },
  {
   "cell_type": "code",
   "execution_count": null,
   "metadata": {},
   "outputs": [],
   "source": []
  },
  {
   "cell_type": "code",
   "execution_count": null,
   "metadata": {},
   "outputs": [],
   "source": []
  }
 ],
 "metadata": {
  "kernelspec": {
   "display_name": "Python 3 (ipykernel)",
   "language": "python",
   "name": "python3"
  },
  "language_info": {
   "codemirror_mode": {
    "name": "ipython",
    "version": 3
   },
   "file_extension": ".py",
   "mimetype": "text/x-python",
   "name": "python",
   "nbconvert_exporter": "python",
   "pygments_lexer": "ipython3",
   "version": "3.8.10"
  }
 },
 "nbformat": 4,
 "nbformat_minor": 4
}
